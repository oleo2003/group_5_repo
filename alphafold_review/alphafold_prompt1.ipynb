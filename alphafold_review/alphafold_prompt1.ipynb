{
 "cells": [
  {
   "cell_type": "markdown",
   "id": "308d7cfb-8f39-4f25-a6a4-4d2c575be421",
   "metadata": {},
   "source": [
    "Proteins perform nearly all cellular functions and are vital to cell health. Knowing protein's three-dimensional structure is essential for understanding how they operate (e.g. binding, catalysis, regulation) within a cell. Experimental structure determination (X-ray crystallography, cryo-EM, NMR) are slow and take massive collective efforts from scientits, and the number of known protein sequences goes way beyond the number of determined structures. This knowledge gap limits our ability to infer biological function, understand disease, design therapies, etc. The authors aim to solve the protein folding / structure prediction problem: given an amino acid sequence, predict its stable 3D structure with near-atomic accuracy, even for proteins without any close homologs of known structure."
   ]
  }
 ],
 "metadata": {
  "kernelspec": {
   "display_name": "Python [conda env:base] *",
   "language": "python",
   "name": "conda-base-py"
  },
  "language_info": {
   "codemirror_mode": {
    "name": "ipython",
    "version": 3
   },
   "file_extension": ".py",
   "mimetype": "text/x-python",
   "name": "python",
   "nbconvert_exporter": "python",
   "pygments_lexer": "ipython3",
   "version": "3.12.7"
  }
 },
 "nbformat": 4,
 "nbformat_minor": 5
}
